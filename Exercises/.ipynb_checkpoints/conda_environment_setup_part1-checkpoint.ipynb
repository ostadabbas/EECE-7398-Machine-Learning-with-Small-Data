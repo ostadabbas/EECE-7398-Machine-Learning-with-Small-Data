{
 "cells": [
  {
   "cell_type": "markdown",
   "id": "0a711e74",
   "metadata": {},
   "source": [
    "# Exercise Part 1: Setting Up Conda Environment and Initializing GPU\n",
    "In this part of the exercise, you will set up your Conda environment, install the necessary libraries (like PyTorch), and initialize the environment to run GPU-based machine learning tasks on the Discovery Cluster."
   ]
  },
  {
   "cell_type": "markdown",
   "id": "5027bab0-fe46-470f-80fe-dba0e71c3c96",
   "metadata": {},
   "source": [
    "## Step 0: Verify GPU Support\n",
    "In the terminal run the following command\n",
    "```bash\n",
    "nvidia-smi\n",
    "```\n",
    "Example Output\n",
    "\n",
    "```bash\n",
    "nvidia-smi\n",
    "+-----------------------------------------------------------------------------+\n",
    "| NVIDIA-SMI 460.32.03    Driver Version: 460.32.03    CUDA Version: 11.2     |\n",
    "|-------------------------------+----------------------+----------------------+\n",
    "| GPU  Name        Persistence-M| Bus-Id        Disp.A | Volatile Uncorr. ECC |\n",
    "| Fan  Temp  Perf  Pwr:Usage/Cap|         Memory-Usage | GPU-Util  Compute M. |\n",
    "|                               |                      |               MIG M. |\n",
    "|===============================+======================+======================|\n",
    "|   0  GeForce A 100    Off  | 00000000:01:00.0 Off |                  N/A |\n",
    "| 30%   55C    P8    20W / 320W |    10MiB / 10018MiB  |      0%      Default |\n",
    "+-------------------------------+----------------------+----------------------+\n",
    "```\n"
   ]
  },
  {
   "cell_type": "markdown",
   "id": "7806e197",
   "metadata": {},
   "source": [
    "## Step 1: Load the Conda Module and Create a New Environment\n",
    "On the Discovery Cluster, you need to load the Anaconda module and create a Python environment specifically for your machine learning tasks.\n",
    "Run the following commands in your terminal:\n",
    "```bash\n",
    "module load anaconda3\n",
    "conda create -n ml_course_env python=3.8\n",
    "conda activate ml_course_env\n",
    "```\n",
    "This will create a new Conda environment named `ml_course_env` with Python 3.8."
   ]
  },
  {
   "cell_type": "markdown",
   "id": "29ec3c6e",
   "metadata": {
    "tags": []
   },
   "source": [
    "## Step 2: Install PyTorch with GPU Support\n",
    "Next, you'll install PyTorch in your Conda environment with support for CUDA (NVIDIA's GPU acceleration toolkit).\n",
    "For this exercise, we'll use PyTorch version 1.11 with CUDA 11.3.\n",
    "\n",
    "You can refer to [PyTorch's official guide for previous versions](https://pytorch.org/get-started/previous-versions/) for the exact command.\n",
    "Run the following command in your terminal to install the appropriate version of PyTorch:\n",
    "\n",
    "```bash\n",
    "conda install pytorch==1.11.0 torchvision==0.12.0 torchaudio==0.11.0 cudatoolkit=11.3 -c pytorch\n",
    "```\n",
    "This installs PyTorch with the required CUDA version for GPU support."
   ]
  },
  {
   "cell_type": "markdown",
   "id": "da36fac6",
   "metadata": {},
   "source": [
    "## Step 3: Verify GPU Availability with PyTorch\n",
    "Once you have installed PyTorch, it's important to verify that your environment can access the GPU on the Discovery Cluster.\n",
    "Run the following code to check if a GPU is available:\n"
   ]
  },
  {
   "cell_type": "code",
   "execution_count": null,
   "id": "10827131",
   "metadata": {},
   "outputs": [],
   "source": [
    "import torch\n",
    "print(\"GPU Available: \", torch.cuda.is_available())\n",
    "if torch.cuda.is_available():\n",
    "    print(\"GPU Name: \", torch.cuda.get_device_name(0))\n",
    "else:\n",
    "    print(\"No GPU available\")"
   ]
  },
  {
   "cell_type": "markdown",
   "id": "868ab02b",
   "metadata": {},
   "source": [
    "This will print whether a GPU is available and, if so, display the name of the GPU (e.g., `NVIDIA A100`)."
   ]
  },
  {
   "cell_type": "markdown",
   "id": "a24d51ec",
   "metadata": {},
   "source": [
    "Now that you have successfully set up the Conda environment and verified GPU availability, you're ready to proceed to the next part of the exercise, where we will explore running machine learning tasks on the Discovery Cluster using either VSCode or Jupyter Notebooks."
   ]
  }
 ],
 "metadata": {
  "kernelspec": {
   "display_name": "Python 3",
   "language": "python",
   "name": "python3"
  },
  "language_info": {
   "codemirror_mode": {
    "name": "ipython",
    "version": 3
   },
   "file_extension": ".py",
   "mimetype": "text/x-python",
   "name": "python",
   "nbconvert_exporter": "python",
   "pygments_lexer": "ipython3",
   "version": "3.8.8"
  }
 },
 "nbformat": 4,
 "nbformat_minor": 5
}
