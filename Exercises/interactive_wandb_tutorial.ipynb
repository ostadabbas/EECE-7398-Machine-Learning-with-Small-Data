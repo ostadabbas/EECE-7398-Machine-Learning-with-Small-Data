{
 "cells": [
  {
   "cell_type": "markdown",
   "metadata": {},
   "source": [
    "# Interactive Weights & Biases Tutorial\n",
    "\n",
    "This notebook will guide you through setting up and using Weights & Biases (W&B) for experiment tracking. Each cell is executable and includes real-time feedback.\n",
    "\n",
    "## Table of Contents\n",
    "1. [Setup and Installation](#setup)\n",
    "2. [First Experiment](#first-experiment)\n",
    "3. [Advanced Tracking](#advanced-tracking)\n",
    "4. [Hyperparameter Optimization](#hyperparameter-optimization)"
   ]
  },
  {
   "cell_type": "markdown",
   "metadata": {},
   "source": [
    "## 1. Setup and Installation <a name=\"setup\"></a>"
   ]
  },
  {
   "cell_type": "code",
   "execution_count": null,
   "metadata": {},
   "outputs": [],
   "source": [
    "def check_wandb_installation():\n",
    "    try:\n",
    "        import wandb\n",
    "        print(f\"✅ W&B is installed (version {wandb.__version__})\")\n",
    "        return True\n",
    "    except ImportError:\n",
    "        print(\"❌ W&B is not installed. Installing now...\")\n",
    "        !pip install wandb -q\n",
    "        return False\n",
    "\n",
    "check_wandb_installation()"
   ]
  },
  {
   "cell_type": "markdown",
   "metadata": {},
   "source": [
    "### Login to W&B\n",
    "Run this cell to log in to your W&B account. If you don't have one, it will guide you through creating one."
   ]
  },
  {
   "cell_type": "code",
   "execution_count": null,
   "metadata": {},
   "outputs": [],
   "source": [
    "import wandb\n",
    "wandb.login()"
   ]
  },
  {
   "cell_type": "markdown",
   "metadata": {},
   "source": [
    "## 2. First Experiment <a name=\"first-experiment\"></a>\n",
    "\n",
    "Let's create a simple experiment to understand how W&B tracking works:"
   ]
  },
  {
   "cell_type": "code",
   "execution_count": null,
   "metadata": {},
   "outputs": [],
   "source": [
    "import numpy as np\n",
    "import torch\n",
    "import torch.nn as nn\n",
    "import torch.optim as optim\n",
    "\n",
    "# Create synthetic data\n",
    "X = torch.randn(100, 1)\n",
    "y = 2 * X + 1 + 0.1 * torch.randn(100, 1)\n",
    "\n",
    "# Define a simple model\n",
    "model = nn.Linear(1, 1)\n",
    "criterion = nn.MSELoss()\n",
    "optimizer = optim.SGD(model.parameters(), lr=0.01)\n",
    "\n",
    "# Initialize W&B\n",
    "wandb.init(\n",
    "    project=\"interactive-tutorial\",\n",
    "    config={\n",
    "        \"learning_rate\": 0.01,\n",
    "        \"epochs\": 100,\n",
    "        \"batch_size\": 32\n",
    "    }\n",
    ")\n",
    "\n",
    "# Training loop\n",
    "for epoch in range(wandb.config.epochs):\n",
    "    optimizer.zero_grad()\n",
    "    outputs = model(X)\n",
    "    loss = criterion(outputs, y)\n",
    "    loss.backward()\n",
    "    optimizer.step()\n",
    "    \n",
    "    # Log metrics to W&B\n",
    "    wandb.log({\n",
    "        \"loss\": loss.item(),\n",
    "        \"weight\": model.weight.item(),\n",
    "        \"bias\": model.bias.item()\n",
    "    })\n",
    "\n",
    "wandb.finish()"
   ]
  },
  {
   "cell_type": "markdown",
   "metadata": {},
   "source": [
    "## 3. Advanced Tracking <a name=\"advanced-tracking\"></a>\n",
    "\n",
    "Now let's explore more advanced W&B features:"
   ]
  },
  {
   "cell_type": "code",
   "execution_count": null,
   "metadata": {},
   "outputs": [],
   "source": [
    "import matplotlib.pyplot as plt\n",
    "\n",
    "# Initialize a new run\n",
    "wandb.init(\n",
    "    project=\"interactive-tutorial\",\n",
    "    name=\"advanced-tracking\",\n",
    "    config={\n",
    "        \"architecture\": \"LinearRegression\",\n",
    "        \"dataset\": \"synthetic\",\n",
    "        \"learning_rate\": 0.01\n",
    "    }\n",
    ")\n",
    "\n",
    "# Create and log a custom plot\n",
    "plt.figure(figsize=(10, 6))\n",
    "plt.scatter(X.numpy(), y.numpy(), label='True Data')\n",
    "plt.plot(X.numpy(), model(X).detach().numpy(), 'r', label='Prediction')\n",
    "plt.legend()\n",
    "plt.title('Regression Results')\n",
    "\n",
    "# Log the plot to W&B\n",
    "wandb.log({\"regression_plot\": wandb.Image(plt)})\n",
    "\n",
    "# Log model architecture\n",
    "wandb.watch(model)\n",
    "\n",
    "# Create a custom table\n",
    "data = [[x.item(), y_.item(), pred.item()] \n",
    "        for x, y_, pred in zip(X[:5], y[:5], model(X[:5]))]\n",
    "table = wandb.Table(data=data, columns=[\"input\", \"true\", \"predicted\"])\n",
    "wandb.log({\"predictions\": table})\n",
    "\n",
    "wandb.finish()"
   ]
  },
  {
   "cell_type": "markdown",
   "metadata": {},
   "source": [
    "## 4. Hyperparameter Optimization <a name=\"hyperparameter-optimization\"></a>\n",
    "\n",
    "Let's use W&B Sweeps for hyperparameter optimization:"
   ]
  },
  {
   "cell_type": "code",
   "execution_count": null,
   "metadata": {},
   "outputs": [],
   "source": [
    "sweep_configuration = {\n",
    "    'method': 'random',\n",
    "    'metric': {'name': 'loss', 'goal': 'minimize'},\n",
    "    'parameters': {\n",
    "        'learning_rate': {'values': [0.001, 0.01, 0.1]},\n",
    "        'batch_size': {'values': [16, 32, 64]},\n",
    "        'epochs': {'value': 50}\n",
    "    }\n",
    "}\n",
    "\n",
    "sweep_id = wandb.sweep(sweep_configuration, project=\"interactive-tutorial\")\n",
    "\n",
    "def train_model():\n",
    "    # Initialize a new wandb run\n",
    "    wandb.init()\n",
    "    \n",
    "    # Create model with current hyperparameters\n",
    "    model = nn.Linear(1, 1)\n",
    "    criterion = nn.MSELoss()\n",
    "    optimizer = optim.SGD(model.parameters(), lr=wandb.config.learning_rate)\n",
    "    \n",
    "    # Training loop\n",
    "    for epoch in range(wandb.config.epochs):\n",
    "        optimizer.zero_grad()\n",
    "        outputs = model(X)\n",
    "        loss = criterion(outputs, y)\n",
    "        loss.backward()\n",
    "        optimizer.step()\n",
    "        \n",
    "        wandb.log({\"loss\": loss.item()})\n",
    "\n",
    "# Run the sweep\n",
    "wandb.agent(sweep_id, function=train_model, count=5)"
   ]
  },
  {
   "cell_type": "markdown",
   "metadata": {},
   "source": [
    "## Next Steps\n",
    "\n",
    "Now that you've completed this interactive tutorial, you can:\n",
    "1. Visit your W&B dashboard to see your experiments\n",
    "2. Explore the sweep results and visualizations\n",
    "3. Try integrating W&B into your own projects\n",
    "\n",
    "For more advanced features, check out:\n",
    "- [W&B Reports](https://docs.wandb.ai/guides/reports)\n",
    "- [Artifact Management](https://docs.wandb.ai/guides/artifacts)\n",
    "- [Team Collaboration](https://docs.wandb.ai/guides/teams)"
   ]
  }
 ],
 "metadata": {
  "kernelspec": {
   "display_name": "Python 3",
   "language": "python",
   "name": "python3"
  },
  "language_info": {
   "codemirror_mode": {
    "name": "ipython",
    "version": 3
   },
   "file_extension": ".py",
   "mimetype": "text/x-python",
   "name": "python",
   "nbconvert_exporter": "python",
   "pygments_lexer": "ipython3",
   "version": "3.8.0"
  }
 },
 "nbformat": 4,
 "nbformat_minor": 4
}
