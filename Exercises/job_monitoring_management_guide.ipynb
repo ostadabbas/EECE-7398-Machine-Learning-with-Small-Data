{
 "cells": [
  {
   "cell_type": "markdown",
   "metadata": {},
   "source": [
    "# Job Monitoring and Management on Explorer Cluster\n",
    "\n",
    "This notebook teaches you how to monitor, manage, and troubleshoot your jobs on the Explorer cluster.\n",
    "\n",
    "## Table of Contents\n",
    "1. [Job Status Monitoring](#job-status)\n",
    "2. [Queue Management](#queue-management)\n",
    "3. [Job History and Accounting](#job-history)\n",
    "4. [Resource Usage Analysis](#resource-usage)\n",
    "5. [Interactive Monitoring Tools](#interactive-tools)"
   ]
  },
  {
   "cell_type": "markdown",
   "metadata": {},
   "source": [
    "## 1. Job Status Monitoring <a name=\"job-status\"></a>\n",
    "\n",
    "### 1.1 Basic Job Checking"
   ]
  },
  {
   "cell_type": "code",
   "execution_count": null,
   "metadata": {},
   "outputs": [],
   "source": [
    "# Essential job monitoring commands\n",
    "monitoring_commands = \"\"\"\n",
    "# Check your current jobs\n",
    "squeue -u $USER\n",
    "\n",
    "# Check all jobs in gpu partition\n",
    "squeue -p gpu\n",
    "\n",
    "# Check specific job details\n",
    "scontrol show job <JOBID>\n",
    "\n",
    "# Check estimated start time\n",
    "squeue -u $USER --start\n",
    "\n",
    "# Check job priority\n",
    "sprio -u $USER\n",
    "\"\"\"\n",
    "\n",
    "print(monitoring_commands)"
   ]
  },
  {
   "cell_type": "markdown",
   "metadata": {},
   "source": [
    "### 1.2 Job Status Meanings"
   ]
  },
  {
   "cell_type": "code",
   "execution_count": null,
   "metadata": {},
   "outputs": [],
   "source": [
    "# Job status codes explanation\n",
    "status_codes = {\n",
    "    'R': 'Running - Job is currently executing',\n",
    "    'PD': 'Pending - Job is waiting for resources',\n",
    "    'CG': 'Completing - Job is finishing up',\n",
    "    'CD': 'Completed - Job finished successfully',\n",
    "    'F': 'Failed - Job terminated with error',\n",
    "    'CA': 'Cancelled - Job was cancelled',\n",
    "    'TO': 'Timeout - Job exceeded time limit',\n",
    "    'OOM': 'Out of Memory - Job ran out of memory'\n",
    "}\n",
    "\n",
    "print(\"Job Status Codes:\")\n",
    "for code, meaning in status_codes.items():\n",
    "    print(f\"{code:3}: {meaning}\")"
   ]
  },
  {
   "cell_type": "markdown",
   "metadata": {},
   "source": [
    "## 2. Queue Management <a name=\"queue-management\"></a>\n",
    "\n",
    "### 2.1 Understanding Queue Position"
   ]
  },
  {
   "cell_type": "code",
   "execution_count": null,
   "metadata": {},
   "outputs": [],
   "source": [
    "# Queue analysis commands\n",
    "queue_commands = \"\"\"\n",
    "# Check partition information\n",
    "sinfo -p gpu\n",
    "\n",
    "# Check node availability\n",
    "sinfo -N -l\n",
    "\n",
    "# Check your position in queue\n",
    "squeue -u $USER -o \"%.18i %.9P %.8j %.8u %.2t %.10M %.6D %R\"\n",
    "\n",
    "# Check why job is pending\n",
    "squeue -j <JOBID> --start\n",
    "\n",
    "# Check fair share priority\n",
    "sshare -u $USER\n",
    "\"\"\"\n",
    "\n",
    "print(queue_commands)"
   ]
  },
  {
   "cell_type": "markdown",
   "metadata": {},
   "source": [
    "### 2.2 Waiting Time Estimation"
   ]
  },
  {
   "cell_type": "code",
   "execution_count": null,
   "metadata": {},
   "outputs": [],
   "source": [
    "import subprocess\n",
    "import re\n",
    "from datetime import datetime, timedelta\n",
    "\n",
    "def estimate_wait_time():\n",
    "    \"\"\"Estimate waiting time for your jobs\"\"\"\n",
    "    try:\n",
    "        # Get job info with start time estimates\n",
    "        result = subprocess.run(['squeue', '-u', '$USER', '--start'], \n",
    "                              capture_output=True, text=True)\n",
    "        \n",
    "        print(\"Your jobs with estimated start times:\")\n",
    "        print(result.stdout)\n",
    "        \n",
    "        # Parse and analyze (simplified example)\n",
    "        lines = result.stdout.strip().split('\\n')\n",
    "        if len(lines) > 1:\n",
    "            print(\"\\nWait time analysis:\")\n",
    "            for line in lines[1:]:  # Skip header\n",
    "                if 'N/A' not in line:\n",
    "                    print(f\"Job has estimated start time\")\n",
    "                else:\n",
    "                    print(f\"Job waiting for resources\")\n",
    "    except:\n",
    "        print(\"Run 'squeue -u $USER --start' in terminal to check wait times\")\n",
    "\n",
    "estimate_wait_time()"
   ]
  },
  {
   "cell_type": "markdown",
   "metadata": {},
   "source": [
    "## 3. Job History and Accounting <a name=\"job-history\"></a>\n",
    "\n",
    "### 3.1 Recent Job History"
   ]
  },
  {
   "cell_type": "code",
   "execution_count": null,
   "metadata": {},
   "outputs": [],
   "source": [
    "# Job history commands\n",
    "history_commands = \"\"\"\n",
    "# Check today's jobs\n",
    "sacct -u $USER --starttime=today\n",
    "\n",
    "# Check last week's jobs\n",
    "sacct -u $USER --starttime=week\n",
    "\n",
    "# Detailed job information\n",
    "sacct -j <JOBID> --format=JobID,JobName,Partition,Account,AllocCPUS,State,ExitCode,Start,End,Elapsed,MaxRSS,MaxVMSize\n",
    "\n",
    "# Check job efficiency\n",
    "seff <JOBID>\n",
    "\n",
    "# Custom format for specific info\n",
    "sacct -u $USER --format=JobID,JobName,State,ExitCode,Start,End,Elapsed,MaxRSS --starttime=today\n",
    "\"\"\"\n",
    "\n",
    "print(history_commands)"
   ]
  },
  {
   "cell_type": "markdown",
   "metadata": {},
   "source": [
    "### 3.2 Job Efficiency Analysis"
   ]
  },
  {
   "cell_type": "code",
   "execution_count": null,
   "metadata": {},
   "outputs": [],
   "source": [
    "def analyze_job_efficiency():\n",
    "    \"\"\"Analyze job efficiency metrics\"\"\"\n",
    "    efficiency_guide = \"\"\"\n",
    "    Job Efficiency Metrics:\n",
    "    \n",
    "    CPU Efficiency:\n",
    "    - >90%: Excellent CPU utilization\n",
    "    - 70-90%: Good utilization\n",
    "    - <70%: Consider reducing CPU request\n",
    "    \n",
    "    Memory Efficiency:\n",
    "    - >80%: Good memory utilization\n",
    "    - 50-80%: Acceptable\n",
    "    - <50%: Consider reducing memory request\n",
    "    \n",
    "    GPU Efficiency:\n",
    "    - >80%: Excellent GPU utilization\n",
    "    - 60-80%: Good utilization\n",
    "    - <60%: Check for bottlenecks\n",
    "    \n",
    "    Time Efficiency:\n",
    "    - Used <50% of requested time: Consider shorter time limits\n",
    "    - Used >95% of requested time: Consider longer time limits\n",
    "    \"\"\"\n",
    "    \n",
    "    print(efficiency_guide)\n",
    "\n",
    "analyze_job_efficiency()"
   ]
  },
  {
   "cell_type": "markdown",
   "metadata": {},
   "source": [
    "## 4. Resource Usage Analysis <a name=\"resource-usage\"></a>\n",
    "\n",
    "### 4.1 Real-time Resource Monitoring"
   ]
  },
  {
   "cell_type": "code",
   "execution_count": null,
   "metadata": {},
   "outputs": [],
   "source": [
    "# Real-time monitoring commands\n",
    "realtime_commands = \"\"\"\n",
    "# Monitor running job resources\n",
    "sstat -j <JOBID> --format=AveCPU,AvePages,AveRSS,AveVMSize,JobID\n",
    "\n",
    "# Continuous monitoring (run in terminal)\n",
    "watch -n 5 'squeue -u $USER'\n",
    "\n",
    "# SSH to compute node (if job is running)\n",
    "ssh <node-name>\n",
    "htop  # Monitor CPU/memory\n",
    "nvidia-smi  # Monitor GPU\n",
    "\n",
    "# Monitor specific job on node\n",
    "ssh <node-name> 'ps aux | grep <your-process>'\n",
    "\"\"\"\n",
    "\n",
    "print(realtime_commands)"
   ]
  },
  {
   "cell_type": "markdown",
   "metadata": {},
   "source": [
    "### 4.2 GPU Monitoring Script"
   ]
  },
  {
   "cell_type": "code",
   "execution_count": null,
   "metadata": {},
   "outputs": [],
   "source": [
    "# GPU monitoring script\n",
    "gpu_monitor_script = '''\n",
    "#!/bin/bash\n",
    "# gpu_monitor.sh - Monitor GPU usage for your jobs\n",
    "\n",
    "# Get your running jobs\n",
    "JOBS=$(squeue -u $USER -h -o \"%i %N\" | grep -v \"(None)\")\n",
    "\n",
    "if [ -z \"$JOBS\" ]; then\n",
    "    echo \"No running jobs found\"\n",
    "    exit 0\n",
    "fi\n",
    "\n",
    "echo \"Monitoring GPU usage for your jobs:\"\n",
    "echo \"====================================\"\n",
    "\n",
    "while IFS= read -r line; do\n",
    "    JOBID=$(echo $line | awk '{print $1}')\n",
    "    NODE=$(echo $line | awk '{print $2}')\n",
    "    \n",
    "    echo \"Job $JOBID on node $NODE:\"\n",
    "    ssh $NODE \"nvidia-smi --query-gpu=utilization.gpu,memory.used,memory.total --format=csv,noheader,nounits\" 2>/dev/null || echo \"Cannot connect to $NODE\"\n",
    "    echo \"---\"\n",
    "done <<< \"$JOBS\"\n",
    "'''\n",
    "\n",
    "with open('gpu_monitor.sh', 'w') as f:\n",
    "    f.write(gpu_monitor_script)\n",
    "\n",
    "print(\"Created gpu_monitor.sh\")\n",
    "print(\"Make executable with: chmod +x gpu_monitor.sh\")\n",
    "print(\"Run with: ./gpu_monitor.sh\")"
   ]
  },
  {
   "cell_type": "markdown",
   "metadata": {},
   "source": [
    "## 5. Interactive Monitoring Tools <a name=\"interactive-tools\"></a>\n",
    "\n",
    "### 5.1 Job Dashboard Function"
   ]
  },
  {
   "cell_type": "code",
   "execution_count": null,
   "metadata": {},
   "outputs": [],
   "source": [
    "import subprocess\n",
    "import time\n",
    "from datetime import datetime\n",
    "\n",
    "def job_dashboard():\n",
    "    \"\"\"Simple job monitoring dashboard\"\"\"\n",
    "    try:\n",
    "        # Get current jobs\n",
    "        result = subprocess.run(['squeue', '-u', '$USER'], \n",
    "                              capture_output=True, text=True)\n",
    "        \n",
    "        print(f\"Job Dashboard - {datetime.now().strftime('%Y-%m-%d %H:%M:%S')}\")\n",
    "        print(\"=\" * 60)\n",
    "        \n",
    "        if result.returncode == 0:\n",
    "            lines = result.stdout.strip().split('\\n')\n",
    "            if len(lines) > 1:\n",
    "                print(result.stdout)\n",
    "                \n",
    "                # Count job states\n",
    "                running = result.stdout.count(' R ')\n",
    "                pending = result.stdout.count(' PD ')\n",
    "                \n",
    "                print(f\"\\nSummary: {running} running, {pending} pending\")\n",
    "            else:\n",
    "                print(\"No jobs currently in queue\")\n",
    "        else:\n",
    "            print(\"Error checking jobs\")\n",
    "            \n",
    "    except Exception as e:\n",
    "        print(f\"Error: {e}\")\n",
    "        print(\"Run 'squeue -u $USER' in terminal\")\n",
    "\n",
    "# Run the dashboard\n",
    "job_dashboard()"
   ]
  },
  {
   "cell_type": "markdown",
   "metadata": {},
   "source": [
    "### 5.2 Automated Job Alerts"
   ]
  },
  {
   "cell_type": "code",
   "execution_count": null,
   "metadata": {},
   "outputs": [],
   "source": [
    "# Job alert script\n",
    "alert_script = '''\n",
    "#!/bin/bash\n",
    "# job_alerts.sh - Get notified when jobs complete\n",
    "\n",
    "# Usage: ./job_alerts.sh <jobid>\n",
    "\n",
    "JOBID=$1\n",
    "\n",
    "if [ -z \"$JOBID\" ]; then\n",
    "    echo \"Usage: $0 <jobid>\"\n",
    "    exit 1\n",
    "fi\n",
    "\n",
    "echo \"Monitoring job $JOBID...\"\n",
    "\n",
    "while true; do\n",
    "    STATUS=$(squeue -j $JOBID -h -o \"%T\" 2>/dev/null)\n",
    "    \n",
    "    if [ -z \"$STATUS\" ]; then\n",
    "        echo \"Job $JOBID completed at $(date)\"\n",
    "        \n",
    "        # Check job outcome\n",
    "        OUTCOME=$(sacct -j $JOBID -n -o State | head -1 | tr -d ' ')\n",
    "        echo \"Final status: $OUTCOME\"\n",
    "        \n",
    "        # Show efficiency\n",
    "        echo \"Job efficiency:\"\n",
    "        seff $JOBID\n",
    "        \n",
    "        break\n",
    "    fi\n",
    "    \n",
    "    echo \"Job $JOBID status: $STATUS ($(date))\"\n",
    "    sleep 60  # Check every minute\n",
    "done\n",
    "'''\n",
    "\n",
    "with open('job_alerts.sh', 'w') as f:\n",
    "    f.write(alert_script)\n",
    "\n",
    "print(\"Created job_alerts.sh\")\n",
    "print(\"Usage: chmod +x job_alerts.sh && ./job_alerts.sh <jobid>\")"
   ]
  },
  {
   "cell_type": "markdown",
   "metadata": {},
   "source": [
    "## Quick Reference\n",
    "\n",
    "### Essential Monitoring Commands\n",
    "\n",
    "| Command | Purpose |\n",
    "|---------|----------|\n",
    "| `squeue -u $USER` | Check your jobs |\n",
    "| `scontrol show job <ID>` | Job details |\n",
    "| `sacct -j <ID>` | Job history |\n",
    "| `seff <ID>` | Job efficiency |\n",
    "| `scancel <ID>` | Cancel job |\n",
    "| `sinfo -p gpu` | Partition status |\n",
    "| `sprio -u $USER` | Job priority |\n",
    "\n",
    "### Troubleshooting Workflow\n",
    "\n",
    "1. **Check job status**: `squeue -u $USER`\n",
    "2. **If pending**: `squeue -j <ID> --start`\n",
    "3. **If failed**: `sacct -j <ID>` and check `.err` file\n",
    "4. **Check efficiency**: `seff <ID>`\n",
    "5. **Adjust resources** for next submission\n",
    "\n",
    "### Best Practices\n",
    "\n",
    "- Monitor jobs regularly\n",
    "- Check efficiency after completion\n",
    "- Adjust resource requests based on usage\n",
    "- Use email notifications for long jobs\n",
    "- Keep job logs organized\n",
    "\n",
    "---\n",
    "\n",
    "**Next Steps:**\n",
    "- Practice monitoring your jobs\n",
    "- Set up automated alerts\n",
    "- Analyze job efficiency\n",
    "- Optimize resource requests"
   ]
  }
 ],
 "metadata": {
  "kernelspec": {
   "display_name": "Python 3",
   "language": "python",
   "name": "python3"
  },
  "language_info": {
   "codemirror_mode": {
    "name": "ipython",
    "version": 3
   },
   "file_extension": ".py",
   "mimetype": "text/x-python",
   "name": "python",
   "nbconvert_exporter": "python",
   "pygments_lexer": "ipython3",
   "version": "3.8.8"
  }
 },
 "nbformat": 4,
 "nbformat_minor": 4
}
