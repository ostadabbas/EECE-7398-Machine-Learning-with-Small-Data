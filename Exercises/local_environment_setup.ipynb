{
 "cells": [
  {
   "cell_type": "markdown",
   "metadata": {},
   "source": [
    "# Deep Learning Environment Setup Guide for Personal Computers\n",
    "\n",
    "This notebook will guide you through setting up your deep learning environment on your personal computer. The instructions will automatically adapt based on your operating system.\n",
    "\n",
    "## Table of Contents\n",
    "1. [Detecting Your Operating System](#os-detection)\n",
    "2. [Installing Python and Conda](#installing-conda)\n",
    "3. [Setting up the Deep Learning Environment](#environment-setup)\n",
    "4. [Installing Required Packages](#installing-packages)\n",
    "5. [Verifying Your Setup](#verification)\n",
    "6. [Troubleshooting Guide](#troubleshooting)"
   ]
  },
  {
   "cell_type": "markdown",
   "metadata": {},
   "source": [
    "## 1. Detecting Your Operating System <a name=\"os-detection\"></a>\n",
    "\n",
    "First, let's identify your operating system to provide you with the appropriate instructions."
   ]
  },
  {
   "cell_type": "code",
   "execution_count": 1,
   "metadata": {},
   "outputs": [
    {
     "name": "stdout",
     "output_type": "stream",
     "text": [
      "Detected Operating System: Linux (Version: Unknown)\n",
      "Python Version: 3.9.19 (main, May  6 2024, 19:43:03) \n",
      "[GCC 11.2.0]\n"
     ]
    }
   ],
   "source": [
    "import platform\n",
    "import sys\n",
    "\n",
    "def get_os_info():\n",
    "    os_name = platform.system()\n",
    "    if os_name == 'Darwin':\n",
    "        return 'MacOS', platform.mac_ver()[0]\n",
    "    elif os_name == 'Windows':\n",
    "        return 'Windows', platform.win32_ver()[0]\n",
    "    elif os_name == 'Linux':\n",
    "        return 'Linux', platform.linux_distribution()[0] if hasattr(platform, 'linux_distribution') else 'Unknown'\n",
    "    return 'Unknown', 'Unknown'\n",
    "\n",
    "os_name, os_version = get_os_info()\n",
    "print(f\"Detected Operating System: {os_name} (Version: {os_version})\")\n",
    "print(f\"Python Version: {sys.version}\")"
   ]
  },
  {
   "cell_type": "markdown",
   "metadata": {},
   "source": [
    "## 2. Installing Python and Conda <a name=\"installing-conda\"></a>\n",
    "\n",
    "Based on your operating system, follow these instructions to install Conda:"
   ]
  },
  {
   "cell_type": "code",
   "execution_count": 2,
   "metadata": {},
   "outputs": [
    {
     "name": "stdout",
     "output_type": "stream",
     "text": [
      "\n",
      "        Linux Installation Steps:\n",
      "        1. Download Miniconda:\n",
      "           ```\n",
      "           wget https://repo.anaconda.com/miniconda/Miniconda3-latest-Linux-x86_64.sh\n",
      "           ```\n",
      "        2. Make the script executable:\n",
      "           ```\n",
      "           chmod +x Miniconda3-latest-Linux-x86_64.sh\n",
      "           ```\n",
      "        3. Run the installer:\n",
      "           ```\n",
      "           ./Miniconda3-latest-Linux-x86_64.sh\n",
      "           ```\n",
      "        4. Follow the prompts and restart your terminal\n",
      "        5. Verify installation:\n",
      "           ```\n",
      "           conda --version\n",
      "           ```\n",
      "        \n"
     ]
    }
   ],
   "source": [
    "def show_conda_instructions():\n",
    "    os_name, _ = get_os_info()\n",
    "    \n",
    "    instructions = {\n",
    "        'Windows': \"\"\"\n",
    "        Windows Installation Steps:\n",
    "        1. Download Miniconda from: https://docs.conda.io/en/latest/miniconda.html\n",
    "        2. Run the downloaded .exe installer\n",
    "        3. During installation:\n",
    "           - Select 'Add Miniconda3 to PATH'\n",
    "           - Choose 'Install for all users' (recommended)\n",
    "        4. Open Command Prompt or PowerShell to verify installation:\n",
    "           ```\n",
    "           conda --version\n",
    "           ```\n",
    "        \"\"\",\n",
    "        \n",
    "        'MacOS': \"\"\"\n",
    "        MacOS Installation Steps:\n",
    "        1. Download Miniconda from: https://docs.conda.io/en/latest/miniconda.html\n",
    "        2. Open Terminal and navigate to the download directory\n",
    "        3. Run:\n",
    "           ```\n",
    "           bash Miniconda3-latest-MacOSX-x86_64.sh\n",
    "           ```\n",
    "           (For Apple Silicon Macs, use Miniconda3-latest-MacOSX-arm64.sh)\n",
    "        4. Follow the prompts and restart your terminal\n",
    "        5. Verify installation:\n",
    "           ```\n",
    "           conda --version\n",
    "           ```\n",
    "        \"\"\",\n",
    "        \n",
    "        'Linux': \"\"\"\n",
    "        Linux Installation Steps:\n",
    "        1. Download Miniconda:\n",
    "           ```\n",
    "           wget https://repo.anaconda.com/miniconda/Miniconda3-latest-Linux-x86_64.sh\n",
    "           ```\n",
    "        2. Make the script executable:\n",
    "           ```\n",
    "           chmod +x Miniconda3-latest-Linux-x86_64.sh\n",
    "           ```\n",
    "        3. Run the installer:\n",
    "           ```\n",
    "           ./Miniconda3-latest-Linux-x86_64.sh\n",
    "           ```\n",
    "        4. Follow the prompts and restart your terminal\n",
    "        5. Verify installation:\n",
    "           ```\n",
    "           conda --version\n",
    "           ```\n",
    "        \"\"\"\n",
    "    }\n",
    "    \n",
    "    return instructions.get(os_name, \"Operating system not detected. Please refer to https://docs.conda.io/en/latest/miniconda.html\")\n",
    "\n",
    "print(show_conda_instructions())"
   ]
  },
  {
   "cell_type": "markdown",
   "metadata": {},
   "source": [
    "## 3. Setting up the Deep Learning Environment <a name=\"environment-setup\"></a>\n",
    "\n",
    "After installing Conda, we'll create a new environment for deep learning:"
   ]
  },
  {
   "cell_type": "code",
   "execution_count": 3,
   "metadata": {},
   "outputs": [
    {
     "name": "stdout",
     "output_type": "stream",
     "text": [
      "\n",
      "    Run these commands in your terminal/command prompt:\n",
      "    \n",
      "    1. Create a new environment:\n",
      "       ```\n",
      "       conda create -n ml_course_env python=3.8\n",
      "       ```\n",
      "    \n",
      "    2. Activate the environment:\n",
      "       ```\n",
      "       conda activate ml_course_env\n",
      "       ```\n",
      "    \n"
     ]
    }
   ],
   "source": [
    "def show_environment_setup():\n",
    "    print(\"\"\"\n",
    "    Run these commands in your terminal/command prompt:\n",
    "    \n",
    "    1. Create a new environment:\n",
    "       ```\n",
    "       conda create -n ml_course_env python=3.8\n",
    "       ```\n",
    "    \n",
    "    2. Activate the environment:\n",
    "       ```\n",
    "       conda activate ml_course_env\n",
    "       ```\n",
    "    \"\"\")\n",
    "\n",
    "show_environment_setup()"
   ]
  },
  {
   "cell_type": "markdown",
   "metadata": {},
   "source": [
    "## 4. Installing Required Packages <a name=\"installing-packages\"></a>\n",
    "\n",
    "Now we'll install PyTorch and other necessary packages. The installation command will vary based on your system and whether you have a GPU."
   ]
  },
  {
   "cell_type": "code",
   "execution_count": 4,
   "metadata": {},
   "outputs": [
    {
     "name": "stdout",
     "output_type": "stream",
     "text": [
      "First, let's check if you have a NVIDIA GPU available...\n",
      "\n",
      "        To check for NVIDIA GPU on Linux/MacOS:\n",
      "        Run this command in terminal:\n",
      "        ```\n",
      "        nvidia-smi\n",
      "        ```\n",
      "        \n",
      "\n",
      "    Based on whether you have a GPU or not, use one of these installation commands:\n",
      "    \n",
      "    For systems WITH NVIDIA GPU:\n",
      "    ```\n",
      "    conda install pytorch torchvision torchaudio pytorch-cuda=11.8 -c pytorch -c nvidia\n",
      "    ```\n",
      "    \n",
      "    For systems WITHOUT GPU (CPU only):\n",
      "    ```\n",
      "    conda install pytorch torchvision torchaudio cpuonly -c pytorch\n",
      "    ```\n",
      "    \n",
      "    Additional packages:\n",
      "    ```\n",
      "    conda install jupyter matplotlib pandas scikit-learn\n",
      "    pip install wandb\n",
      "    ```\n",
      "    \n"
     ]
    }
   ],
   "source": [
    "def show_package_installation():\n",
    "    os_name, _ = get_os_info()\n",
    "    \n",
    "    print(\"First, let's check if you have a NVIDIA GPU available...\")\n",
    "    \n",
    "    if os_name == 'Windows':\n",
    "        print(\"\"\"\n",
    "        To check for NVIDIA GPU on Windows:\n",
    "        1. Right-click on desktop -> NVIDIA Control Panel\n",
    "        2. Or run 'nvidia-smi' in Command Prompt if you have CUDA installed\n",
    "        \"\"\")\n",
    "    else:\n",
    "        print(\"\"\"\n",
    "        To check for NVIDIA GPU on Linux/MacOS:\n",
    "        Run this command in terminal:\n",
    "        ```\n",
    "        nvidia-smi\n",
    "        ```\n",
    "        \"\"\")\n",
    "    \n",
    "    print(\"\"\"\n",
    "    Based on whether you have a GPU or not, use one of these installation commands:\n",
    "    \n",
    "    For systems WITH NVIDIA GPU:\n",
    "    ```\n",
    "    conda install pytorch torchvision torchaudio pytorch-cuda=11.8 -c pytorch -c nvidia\n",
    "    ```\n",
    "    \n",
    "    For systems WITHOUT GPU (CPU only):\n",
    "    ```\n",
    "    conda install pytorch torchvision torchaudio cpuonly -c pytorch\n",
    "    ```\n",
    "    \n",
    "    Additional packages:\n",
    "    ```\n",
    "    conda install jupyter matplotlib pandas scikit-learn\n",
    "    pip install wandb\n",
    "    ```\n",
    "    \"\"\")\n",
    "\n",
    "show_package_installation()"
   ]
  },
  {
   "cell_type": "markdown",
   "metadata": {},
   "source": [
    "## 5. Verifying Your Setup <a name=\"verification\"></a>\n",
    "\n",
    "Let's verify that everything is installed correctly:"
   ]
  },
  {
   "cell_type": "code",
   "execution_count": 5,
   "metadata": {},
   "outputs": [
    {
     "name": "stdout",
     "output_type": "stream",
     "text": [
      "✅ All required packages are installed!\n",
      "PyTorch version: 2.5.1+cu124\n",
      "CUDA available: True\n",
      "CUDA version: 12.4\n",
      "GPU device: NVIDIA GeForce RTX 3060 Laptop GPU\n"
     ]
    }
   ],
   "source": [
    "def verify_setup():\n",
    "    try:\n",
    "        import torch\n",
    "        import torchvision\n",
    "        import matplotlib\n",
    "        import pandas\n",
    "        import sklearn\n",
    "        import wandb\n",
    "        \n",
    "        print(\"✅ All required packages are installed!\")\n",
    "        print(f\"PyTorch version: {torch.__version__}\")\n",
    "        print(f\"CUDA available: {torch.cuda.is_available()}\")\n",
    "        if torch.cuda.is_available():\n",
    "            print(f\"CUDA version: {torch.version.cuda}\")\n",
    "            print(f\"GPU device: {torch.cuda.get_device_name(0)}\")\n",
    "            \n",
    "    except ImportError as e:\n",
    "        print(f\"❌ Some packages are missing: {str(e)}\")\n",
    "        print(\"Please follow the installation instructions above.\")\n",
    "\n",
    "verify_setup()"
   ]
  },
  {
   "cell_type": "markdown",
   "metadata": {},
   "source": [
    "## 6. Troubleshooting Guide <a name=\"troubleshooting\"></a>\n",
    "\n",
    "If you encounter any issues during the setup, here are some common problems and their solutions:"
   ]
  },
  {
   "cell_type": "code",
   "execution_count": null,
   "metadata": {},
   "outputs": [],
   "source": [
    "def show_troubleshooting():\n",
    "    os_name, _ = get_os_info()\n",
    "    \n",
    "    common_issues = {\n",
    "        'Windows': \"\"\"\n",
    "        Common Windows Issues:\n",
    "        1. 'conda not recognized':\n",
    "           - Add Conda to PATH or use Anaconda Prompt\n",
    "           - Restart your computer\n",
    "        \n",
    "        2. CUDA issues:\n",
    "           - Install NVIDIA drivers from: https://www.nvidia.com/Download/index.aspx\n",
    "           - Use Device Manager to verify GPU is properly recognized\n",
    "        \n",
    "        3. Permission errors:\n",
    "           - Run Command Prompt as Administrator\n",
    "        \"\"\",\n",
    "        \n",
    "        'MacOS': \"\"\"\n",
    "        Common MacOS Issues:\n",
    "        1. 'conda not found':\n",
    "           - Add to PATH: echo 'export PATH=\"$HOME/miniconda3/bin:$PATH\"' >> ~/.zshrc\n",
    "           - Restart terminal\n",
    "        \n",
    "        2. M1/M2 Mac specific:\n",
    "           - Use Rosetta 2 for x86 packages\n",
    "           - Install arm64 versions when available\n",
    "        \n",
    "        3. Permission issues:\n",
    "           - Run: chmod -R 777 ~/miniconda3\n",
    "        \"\"\",\n",
    "        \n",
    "        'Linux': \"\"\"\n",
    "        Common Linux Issues:\n",
    "        1. 'conda not found':\n",
    "           - Add to PATH: echo 'export PATH=\"$HOME/miniconda3/bin:$PATH\"' >> ~/.bashrc\n",
    "           - Source ~/.bashrc\n",
    "        \n",
    "        2. CUDA issues:\n",
    "           - Install NVIDIA drivers: sudo ubuntu-drivers autoinstall\n",
    "           - Check GPU detection: lspci | grep -i nvidia\n",
    "        \n",
    "        3. Permission issues:\n",
    "           - Use sudo for system-wide installation\n",
    "           - Check folder permissions\n",
    "        \"\"\"\n",
    "    }\n",
    "    \n",
    "    print(common_issues.get(os_name, \"Please refer to the Conda documentation for troubleshooting.\"))\n",
    "    \n",
    "    print(\"\"\"\n",
    "    General Troubleshooting:\n",
    "    1. Clear conda cache:\n",
    "       ```\n",
    "       conda clean --all\n",
    "       ```\n",
    "    \n",
    "    2. Update conda:\n",
    "       ```\n",
    "       conda update -n base conda\n",
    "       ```\n",
    "    \n",
    "    3. Create a new environment if current one is corrupted:\n",
    "       ```\n",
    "       conda create --name ml_course_env_new --clone ml_course_env\n",
    "       ```\n",
    "    \n",
    "    For more help, visit:\n",
    "    - PyTorch Forums: https://discuss.pytorch.org\n",
    "    - Conda Documentation: https://docs.conda.io\n",
    "    - Stack Overflow: https://stackoverflow.com/questions/tagged/pytorch\n",
    "    \"\"\")\n",
    "\n",
    "show_troubleshooting()"
   ]
  }
 ],
 "metadata": {
  "kernelspec": {
   "display_name": "qtenv",
   "language": "python",
   "name": "python3"
  },
  "language_info": {
   "codemirror_mode": {
    "name": "ipython",
    "version": 3
   },
   "file_extension": ".py",
   "mimetype": "text/x-python",
   "name": "python",
   "nbconvert_exporter": "python",
   "pygments_lexer": "ipython3",
   "version": "3.9.19"
  }
 },
 "nbformat": 4,
 "nbformat_minor": 4
}
